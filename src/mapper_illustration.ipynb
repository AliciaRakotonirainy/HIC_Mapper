{
 "cells": [
  {
   "cell_type": "code",
   "execution_count": null,
   "metadata": {},
   "outputs": [],
   "source": [
    "import numpy as np\n",
    "import matplotlib.pyplot as plt\n",
    "from sklearn.decomposition import KernelPCA\n",
    "from sklearn.preprocessing import StandardScaler\n",
    "\n",
    "\n",
    "from src.cover_complex import *\n",
    "from src.scc import *\n",
    "\n",
    "from gudhi import SimplexTree\n",
    "from gudhi import CoverComplex\n",
    "\n",
    "import networkx as nx"
   ]
  },
  {
   "attachments": {},
   "cell_type": "markdown",
   "metadata": {},
   "source": [
    "# Toy Example\n",
    "\n",
    "Let's illustrate the mapper algorithm on a simple example."
   ]
  },
  {
   "cell_type": "code",
   "execution_count": null,
   "metadata": {},
   "outputs": [],
   "source": [
    "# Generate data points\n",
    "np.random.seed(27)\n",
    "t = np.linspace(0,10,300)\n",
    "x_circle = np.sin(t)\n",
    "y_circle = np.cos(t) + np.random.randn(len(t))/10\n",
    "\n",
    "x_circle_2 = np.sin(t)\n",
    "y_circle_2 = np.cos(t) -3 + np.random.randn(len(t))/10\n",
    "\n",
    "x_center = np.random.randn(400)/10\n",
    "y_center = np.random.randn(400)/3 - 1.5\n",
    "\n",
    "x = np.concatenate((x_circle, x_circle_2, x_center))\n",
    "y = np.concatenate((y_circle, y_circle_2, y_center))\n",
    "\n",
    "X = np.concatenate((x.reshape(-1,1),y.reshape(-1,1)), axis=1)\n"
   ]
  },
  {
   "cell_type": "code",
   "execution_count": null,
   "metadata": {},
   "outputs": [],
   "source": [
    "# Define the filter as the projection on y axis\n",
    "X_filter = X[:,1]"
   ]
  },
  {
   "cell_type": "code",
   "execution_count": null,
   "metadata": {},
   "outputs": [],
   "source": [
    "# Fit mapper\n",
    "\n",
    "mapper = MapperComplex(input_type=\"point cloud\",\n",
    "                       resolutions=np.array([7]))\n",
    "mapper.fit(X, filters=X_filter)"
   ]
  },
  {
   "cell_type": "code",
   "execution_count": null,
   "metadata": {},
   "outputs": [],
   "source": [
    "# Plot the resulting graph\n",
    "\n",
    "G = mapper.get_networkx()\n",
    "\n",
    "fig, (ax1, ax2) = plt.subplots(1, 2)\n",
    "fig.suptitle('Test mapper on a simple example')\n",
    "ax1.scatter(x, y)\n",
    "ax1.set_title(\"Data points\")\n",
    "nx.draw_networkx(G, ax = ax2)\n",
    "ax2.set_title(\"Mapper Graph\")\n",
    "plt.show()\n",
    "\n",
    "# we obtain the expected graph : 2 linked circles !\n"
   ]
  },
  {
   "attachments": {},
   "cell_type": "markdown",
   "metadata": {},
   "source": [
    "# Mapper for Hi-C dataset\n",
    "\n",
    "Let's try it on our Hi-C dataset :"
   ]
  },
  {
   "cell_type": "code",
   "execution_count": null,
   "metadata": {},
   "outputs": [],
   "source": [
    "EXP_ID = \"02\" # to save the computed pairwise distance matrix (it is long to compute)\n",
    "\n",
    "# Compute pairwise distance matrix\n",
    "# This class computes the SCC of 2 cells inter-chromosomically\n",
    "scc_mat = SCCMatrix(\"data/hi-matrices/\",\n",
    "                    500, # number of cells \n",
    "                    h=10, # window size for average smoothing\n",
    "                    n_slices_max=50 # maximal distance in order to take a contact into account\n",
    "                    )\n",
    "\n",
    "# Or, use the alternative class, that first computes the SCC of each \n",
    "# chromosomes separately, then computes the average of the SCC of corresponding chromosomes:\n",
    "#scc_mat = SCCMatrix_chromwise(\"data/chromosomes.txt\",\n",
    "#                    \"data/hi-matrices/\",\n",
    "#                    500, # number of cells \n",
    "#                    h=10, # window size for average smoothing\n",
    "#                    n_slices_max=50 # maximal distance in order to take a contact into account\n",
    "#                    )\n",
    "\n",
    "X = scc_mat.compute_pairwise_dist()\n",
    "np.save(\"output/pairwise_distance_\" + EXP_ID +\".npy\", X)\n"
   ]
  },
  {
   "cell_type": "code",
   "execution_count": null,
   "metadata": {},
   "outputs": [],
   "source": [
    "# plot the pairwise distance matrix\n",
    "plt.imshow(X)\n",
    "plt.colorbar()\n",
    "plt.show()"
   ]
  },
  {
   "cell_type": "code",
   "execution_count": null,
   "metadata": {},
   "outputs": [],
   "source": [
    "# Get cell features to colorize the graph ; here we use mean_insu, but we have to test with \"f near band\", \"repli score\" and \"f mitotic band\"\n",
    "cell_features = pd.read_table(\"data/features.txt\")\n",
    "cell_features.index = cell_features[\"cell_nm\"] # set cell names as index\n",
    "mean_insu = cell_features[\"mean_insu\"]\n",
    "\n",
    "# cells that where selected :\n",
    "cells_id = scc_mat.contact_maps_files # retrieve the name of the cells that were used to compute the pairwise distances\n",
    "for i, cell in enumerate(cells_id): # correct the names (replace \".\" by \"_\")\n",
    "    cells_id[i] = cell.replace(\".\",\"_\")\n",
    "\n",
    "mean_insu_cells = mean_insu.loc[cells_id]\n",
    "\n",
    "# save the cells that were drawn for this experiment\n",
    "np.save(\"output/cells_di_\" + EXP_ID + \".npy\", cells_id)\n"
   ]
  },
  {
   "cell_type": "code",
   "execution_count": null,
   "metadata": {},
   "outputs": [],
   "source": [
    "# compute PCA of this distance matrix ; it will out filter (= lens)\n",
    "X_scaled = StandardScaler().fit_transform(X)\n",
    "transformer = KernelPCA(n_components=2, kernel='linear') # we could try other kernels\n",
    "pca = transformer.fit_transform(X_scaled)"
   ]
  },
  {
   "cell_type": "code",
   "execution_count": null,
   "metadata": {},
   "outputs": [],
   "source": [
    "# compute mapper, using 2 first Principal Components as filter\n",
    "    \n",
    "RES = 5\n",
    "GAIN = 0.4\n",
    "\n",
    "mapper = MapperComplex(input_type=\"distance matrix\", \n",
    "                        colors=mean_insu_cells,\n",
    "                        resolutions=np.array([RES, RES]), gains=np.array([0.5, 0.5]))\n",
    "mapper = mapper.fit(X, filters=pca) # filters : numpy array of shape (num_points) x (num_filters) Each column of the numpy array defines a scalar function defined on the input points.\n",
    "\n",
    "# plot graph\n",
    "G = mapper.get_networkx()\n",
    "plt.figure()\n",
    "nx.draw_networkx(G,\n",
    "                node_color=[mapper.node_info_[v][\"colors\"] for v in G.nodes()])\n",
    "plt.show()"
   ]
  },
  {
   "attachments": {},
   "cell_type": "markdown",
   "metadata": {},
   "source": [
    "# TO DO next\n",
    "\n",
    "Il faut trouver les paramètres qui permettent d'obtenir un graph qui présente une grande boucle (cf [Fig.4 de leur article](https://www.biorxiv.org/content/10.1101/486936v1.full)).\n",
    "\n",
    "Paramètres à faire varier : \n",
    " \n",
    "SCC :    \n",
    "- `h`, la taille de la fenêtre pour l'average smoothing\n",
    "- `n_slices_max` : la distance max entre 2 DNA bins pour prendre en compte le contact. A voir si on peut calculer le SCC en ne mettant pas ce seuil, mais je crois que ça sera super long.\n",
    "- Est-ce qu'on le calcule chromosome par chromosome (`SCCMatrix_chromwise()`), ou est-ce qu'on utilise l'ensemble de la contact map avec tous les crhomosomes d'un coup (`SCCMatrix()`) ?\n",
    "\n",
    "Mapper : \n",
    "- Le type de Kernel dans la PCA\n",
    "- Le nombre de PCs qu'on prend en compte comme filter\n",
    "- `RES` : le paramètre de résolution\n",
    "- `GAIN` : le paramètre d'overlap\n",
    "- L'algo de clustering utilisé"
   ]
  },
  {
   "cell_type": "markdown",
   "metadata": {},
   "source": []
  }
 ],
 "metadata": {
  "language_info": {
   "name": "python"
  },
  "orig_nbformat": 4
 },
 "nbformat": 4,
 "nbformat_minor": 2
}
